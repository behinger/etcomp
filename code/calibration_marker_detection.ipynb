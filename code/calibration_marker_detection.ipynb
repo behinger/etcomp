{
 "cells": [
  {
   "cell_type": "code",
   "execution_count": 3,
   "metadata": {},
   "outputs": [],
   "source": [
    "import os\n",
    "dirpath,dirnames,filenames = next(os.walk('functions'))"
   ]
  },
  {
   "cell_type": "code",
   "execution_count": 4,
   "metadata": {},
   "outputs": [
    {
     "data": {
      "text/plain": [
       "'functions'"
      ]
     },
     "execution_count": 4,
     "metadata": {},
     "output_type": "execute_result"
    }
   ],
   "source": [
    "dirpath"
   ]
  },
  {
   "cell_type": "code",
   "execution_count": 1,
   "metadata": {},
   "outputs": [
    {
     "name": "stdout",
     "output_type": "stream",
     "text": [
      "/net/store/nbp/projects/IntoTheWild/ET_Analysis/etcomp/code\n"
     ]
    }
   ],
   "source": [
    "try:\n",
    "    %load_ext autoreload\n",
    "    %autoreload 2\n",
    "except:\n",
    "        pass\n",
    "%matplotlib inline\n",
    "\n",
    "\n",
    "import functions.plotnine_theme\n",
    "import pandas as pd\n",
    "import numpy as np\n",
    "\n",
    "import matplotlib.pyplot as plt\n",
    "from plotnine import *\n",
    "from plotnine.data import *\n",
    "import os\n",
    "print(os.getcwd())\n",
    "if os.getcwd()[-4:] != 'code':\n",
    "    try:\n",
    "        os.chdir('./code')\n",
    "    except:\n",
    "        os.chdir('/net/store/nbp/projects/IntoTheWild/ET_Analysis/etcomp/code')\n",
    "\n",
    "import av # import to import before any pupillabs libraries"
   ]
  },
  {
   "cell_type": "code",
   "execution_count": 2,
   "metadata": {},
   "outputs": [],
   "source": [
    "from lib.pupil.pupil_src.shared_modules import file_methods as pl_file_methods"
   ]
  },
  {
   "cell_type": "code",
   "execution_count": 3,
   "metadata": {},
   "outputs": [],
   "source": [
    "from functions import et_import\n",
    "#from  functions.nbp_recalib import sort_pupil"
   ]
  },
  {
   "cell_type": "code",
   "execution_count": 4,
   "metadata": {},
   "outputs": [
    {
     "name": "stdout",
     "output_type": "stream",
     "text": [
      "reached exception:OpenGL_accelerate\n",
      "reached exception:OpenGL.acceleratesupport\n",
      "reached exception:OpenGL.error\n",
      "reached exception:OpenGL.GL\n",
      "reached exception:OpenGL_accelerate\n",
      "reached exception:OpenGL.acceleratesupport\n",
      "reached exception:OpenGL.error\n",
      "reached exception:OpenGL_accelerate\n",
      "reached exception:OpenGL.acceleratesupport\n",
      "reached exception:OpenGL.arrays.arraydatatype\n",
      "reached exception:OpenGL_accelerate\n",
      "reached exception:OpenGL.acceleratesupport\n",
      "reached exception:OpenGL.error\n",
      "reached exception:OpenGL_accelerate\n",
      "reached exception:OpenGL.acceleratesupport\n",
      "reached exception:OpenGL.converters\n",
      "reached exception:OpenGL.arrays.arrayhelpers\n",
      "reached exception:OpenGL_accelerate\n",
      "reached exception:OpenGL.acceleratesupport\n",
      "reached exception:OpenGL.error\n",
      "reached exception:OpenGL.wrapper\n",
      "reached exception:OpenGL.raw.GLU\n",
      "reached exception:OpenGL_accelerate\n",
      "reached exception:OpenGL.acceleratesupport\n",
      "reached exception:OpenGL.error\n",
      "reached exception:OpenGL.wrapper\n",
      "reached exception:OpenGL.raw.GLU\n",
      "reached exception:OpenGL.raw.GLU.annotations\n",
      "reached exception:OpenGL_accelerate\n",
      "reached exception:OpenGL.acceleratesupport\n",
      "reached exception:OpenGL.error\n",
      "reached exception:OpenGL.wrapper\n",
      "reached exception:OpenGL.raw.GLU\n",
      "reached exception:OpenGL.GLU.quadrics\n",
      "reached exception:OpenGL_accelerate\n",
      "reached exception:OpenGL.acceleratesupport\n",
      "reached exception:OpenGL.error\n",
      "reached exception:OpenGL.wrapper\n",
      "reached exception:OpenGL.raw.GLU\n",
      "reached exception:OpenGL.GLU.projection\n",
      "reached exception:OpenGL_accelerate\n",
      "reached exception:OpenGL.acceleratesupport\n",
      "reached exception:OpenGL.error\n",
      "reached exception:OpenGL.wrapper\n",
      "reached exception:OpenGL.raw.GLU\n",
      "reached exception:OpenGL.GLU.tess\n",
      "reached exception:OpenGL_accelerate\n",
      "reached exception:OpenGL.acceleratesupport\n",
      "reached exception:OpenGL.error\n",
      "reached exception:OpenGL.wrapper\n",
      "reached exception:OpenGL.raw.GLU\n",
      "reached exception:OpenGL.GLU.glunurbs\n",
      "reached exception:OpenGL.GLU\n",
      "reached exception:OpenGL_accelerate\n",
      "reached exception:OpenGL.acceleratesupport\n",
      "reached exception:OpenGL.error\n",
      "reached exception:OpenGL.GL\n",
      "reached exception:OpenGL_accelerate\n",
      "reached exception:OpenGL.acceleratesupport\n",
      "reached exception:OpenGL.error\n",
      "reached exception:OpenGL_accelerate\n",
      "reached exception:OpenGL.acceleratesupport\n",
      "reached exception:OpenGL.error\n",
      "reached exception:OpenGL.wrapper\n",
      "reached exception:OpenGL.raw.GLU\n",
      "reached exception:OpenGL_accelerate\n",
      "reached exception:OpenGL.acceleratesupport\n",
      "reached exception:OpenGL.error\n",
      "reached exception:OpenGL.wrapper\n",
      "reached exception:OpenGL.raw.GLU\n",
      "reached exception:OpenGL.raw.GLU.annotations\n",
      "reached exception:OpenGL_accelerate\n",
      "reached exception:OpenGL.acceleratesupport\n",
      "reached exception:OpenGL.error\n",
      "reached exception:OpenGL.wrapper\n",
      "reached exception:OpenGL.raw.GLU\n",
      "reached exception:OpenGL.GLU.quadrics\n",
      "reached exception:OpenGL_accelerate\n",
      "reached exception:OpenGL.acceleratesupport\n",
      "reached exception:OpenGL.error\n",
      "reached exception:OpenGL.wrapper\n",
      "reached exception:OpenGL.raw.GLU\n",
      "reached exception:OpenGL.GLU.projection\n",
      "reached exception:OpenGL_accelerate\n",
      "reached exception:OpenGL.acceleratesupport\n",
      "reached exception:OpenGL.error\n",
      "reached exception:OpenGL.wrapper\n",
      "reached exception:OpenGL.raw.GLU\n",
      "reached exception:OpenGL.GLU.tess\n",
      "reached exception:OpenGL_accelerate\n",
      "reached exception:OpenGL.acceleratesupport\n",
      "reached exception:OpenGL.error\n",
      "reached exception:OpenGL.wrapper\n",
      "reached exception:OpenGL.raw.GLU\n",
      "reached exception:OpenGL.GLU.glunurbs\n",
      "reached exception:OpenGL.GLU\n",
      "reached exception:OpenGL_accelerate\n",
      "reached exception:OpenGL.acceleratesupport\n",
      "reached exception:OpenGL.error\n",
      "reached exception:OpenGL.GL\n",
      "reached exception:pyaudio\n",
      "reached exception:backports_abc\n",
      "reached exception:optimization_calibration\n",
      "reached exception:OpenGL_accelerate\n",
      "reached exception:OpenGL.acceleratesupport\n",
      "reached exception:OpenGL.error\n",
      "reached exception:OpenGL.GL\n",
      "reached exception:OpenGL_accelerate\n",
      "reached exception:OpenGL.acceleratesupport\n",
      "reached exception:OpenGL.error\n",
      "reached exception:OpenGL.GL\n",
      "reached exception:OpenGL_accelerate\n",
      "reached exception:OpenGL.acceleratesupport\n",
      "reached exception:OpenGL.error\n",
      "reached exception:OpenGL.GL\n",
      "reached exception:OpenGL_accelerate\n",
      "reached exception:OpenGL.acceleratesupport\n",
      "reached exception:OpenGL.error\n",
      "reached exception:OpenGL.GL\n",
      "reached exception:glfw.GLFW_PRESS\n",
      "reached exception:glfw.GLFW_KEY_SPACE\n",
      "reached exception:glfw.GLFW_KEY_F\n",
      "reached exception:glfw.glfwSetKeyCallback\n",
      "reached exception:fingertip_calibration\n",
      "reached exception:OpenGL_accelerate\n",
      "reached exception:OpenGL.acceleratesupport\n",
      "reached exception:OpenGL.error\n",
      "reached exception:OpenGL.GL\n",
      "reached exception:glfw.GLFW_PRESS\n",
      "reached exception:natural_features_calibration\n",
      "reached exception:optimization_calibration\n",
      "reached exception:ndsi\n",
      "reached exception:ndsi\n",
      "reached exception:ndsi_backend\n",
      "reached exception:pyrealsense\n",
      "reached exception:pyrealsense\n",
      "reached exception:pyrealsense.stream\n",
      "reached exception:pyrealsense\n",
      "reached exception:pyrealsense.constants\n",
      "reached exception:pyrealsense\n",
      "reached exception:pyrealsense.extlib\n",
      "reached exception:OpenGL_accelerate\n",
      "reached exception:OpenGL.acceleratesupport\n",
      "reached exception:OpenGL.error\n",
      "reached exception:OpenGL.GL\n",
      "reached exception:OpenGL_accelerate\n",
      "reached exception:OpenGL.acceleratesupport\n",
      "reached exception:OpenGL.error\n",
      "reached exception:OpenGL_accelerate\n",
      "reached exception:OpenGL.acceleratesupport\n",
      "reached exception:OpenGL.error\n",
      "reached exception:OpenGL.wrapper\n",
      "reached exception:OpenGL.raw.GLU\n",
      "reached exception:OpenGL_accelerate\n",
      "reached exception:OpenGL.acceleratesupport\n",
      "reached exception:OpenGL.error\n",
      "reached exception:OpenGL.wrapper\n",
      "reached exception:OpenGL.raw.GLU\n",
      "reached exception:OpenGL.raw.GLU.annotations\n",
      "reached exception:OpenGL_accelerate\n",
      "reached exception:OpenGL.acceleratesupport\n",
      "reached exception:OpenGL.error\n",
      "reached exception:OpenGL.wrapper\n",
      "reached exception:OpenGL.raw.GLU\n",
      "reached exception:OpenGL.GLU.quadrics\n",
      "reached exception:OpenGL_accelerate\n",
      "reached exception:OpenGL.acceleratesupport\n",
      "reached exception:OpenGL.error\n",
      "reached exception:OpenGL.wrapper\n",
      "reached exception:OpenGL.raw.GLU\n",
      "reached exception:OpenGL.GLU.projection\n",
      "reached exception:OpenGL_accelerate\n",
      "reached exception:OpenGL.acceleratesupport\n",
      "reached exception:OpenGL.error\n",
      "reached exception:OpenGL.wrapper\n",
      "reached exception:OpenGL.raw.GLU\n",
      "reached exception:OpenGL.GLU.tess\n",
      "reached exception:OpenGL_accelerate\n",
      "reached exception:OpenGL.acceleratesupport\n",
      "reached exception:OpenGL.error\n",
      "reached exception:OpenGL.wrapper\n",
      "reached exception:OpenGL.raw.GLU\n",
      "reached exception:OpenGL.GLU.glunurbs\n",
      "reached exception:OpenGL.GLU\n",
      "reached exception:realsense_backend\n"
     ]
    }
   ],
   "source": [
    "import av\n",
    "# Pretty serious workaround. Ignores errors in imports :S\n",
    "import builtins\n",
    "from types import ModuleType\n",
    "\n",
    "class DummyModule(ModuleType):\n",
    "    def __getattr__(self, key):\n",
    "        return None\n",
    "    __all__ = []   # support wildcard imports\n",
    "\n",
    "def tryimport(name, *args, **kwargs):\n",
    "    try:\n",
    "        imp = realimport(name, *args,**kwargs)\n",
    "        #print('success: '+name)\n",
    "        return imp \n",
    "    except Exception as e:\n",
    "        print('reached exception:' + name)\n",
    "        if name =='cPickle': # because how they import cPickle/Pickle\n",
    "            return realimport('pickle', *args,**kwargs)    \n",
    "        \n",
    "        #print(e)\n",
    "        return DummyModule(name)\n",
    "\n",
    "\n",
    "\n",
    "realimport, builtins.__import__ = builtins.__import__, tryimport\n",
    "try:\n",
    "    import lib.pupil.pupil_src.shared_modules.calibration_routines.manual_marker_calibration as mc\n",
    "\n",
    "except Exception as e:\n",
    "    print('-------------------')\n",
    "    print(e)\n",
    "    pass\n",
    "tryimport, builtins.__import__ = builtins.__import__, realimport\n",
    "import pl_anna_tools\n"
   ]
  },
  {
   "cell_type": "code",
   "execution_count": 5,
   "metadata": {},
   "outputs": [],
   "source": [
    "from functions.et_helper import tic,toc\n"
   ]
  },
  {
   "cell_type": "code",
   "execution_count": 6,
   "metadata": {},
   "outputs": [],
   "source": [
    "video_file_path = '/net/store/nbp/projects/IntoTheWild/Daten/Eyetracking/Wild/VP21/2018_05_24/001'\n",
    "cap = pl_anna_tools.init_playback(video_name = 'world.mp4',video_file_path = video_file_path)"
   ]
  },
  {
   "cell_type": "code",
   "execution_count": 7,
   "metadata": {},
   "outputs": [],
   "source": [
    "pupil_data = pl_file_methods.load_object(os.path.join(video_file_path,'pupil_data'))"
   ]
  },
  {
   "cell_type": "code",
   "execution_count": null,
   "metadata": {},
   "outputs": [],
   "source": [
    "#pupil_data2 = pl_file_methods.load_object('/net/store/nbp/projects/IntoTheWild/Daten/Eyetracking/Wild/VP21/2018_05_24/001/offline_data/offline_pupil.pldata')\n",
    "\n",
    "pupil_data2 = pl_file_methods.load_pldata_file(directory='/net/store/nbp/projects/IntoTheWild/Daten/Eyetracking/Wild/VP21/2018_05_24/001/offline_data/',topic='offline_pupil')"
   ]
  },
  {
   "cell_type": "code",
   "execution_count": 9,
   "metadata": {},
   "outputs": [
    {
     "ename": "NameError",
     "evalue": "name 'pupil_data2' is not defined",
     "output_type": "error",
     "traceback": [
      "\u001b[0;31m---------------------------------------------------------------------------\u001b[0m",
      "\u001b[0;31mNameError\u001b[0m                                 Traceback (most recent call last)",
      "\u001b[0;32m<ipython-input-9-ab8ca3fa15d0>\u001b[0m in \u001b[0;36m<module>\u001b[0;34m\u001b[0m\n\u001b[0;32m----> 1\u001b[0;31m \u001b[0mpupil_data\u001b[0m\u001b[0;34m[\u001b[0m\u001b[0;34m'pupil_position'\u001b[0m\u001b[0;34m]\u001b[0m \u001b[0;34m=\u001b[0m \u001b[0mpupil_data2\u001b[0m\u001b[0;34m.\u001b[0m\u001b[0mdata\u001b[0m\u001b[0;34m\u001b[0m\u001b[0m\n\u001b[0m",
      "\u001b[0;31mNameError\u001b[0m: name 'pupil_data2' is not defined"
     ]
    }
   ],
   "source": [
    "pupil_data['pupil_position'] = pupil_data2.data"
   ]
  },
  {
   "cell_type": "code",
   "execution_count": 8,
   "metadata": {},
   "outputs": [],
   "source": [
    "world_timestamps= np.load(os.path.join(video_file_path,'world_timestamps.npy'))"
   ]
  },
  {
   "cell_type": "code",
   "execution_count": 9,
   "metadata": {},
   "outputs": [],
   "source": [
    "\n",
    "ind = np.digitize([p['timestamp'] for p in pupil_data['pupil_positions']],world_timestamps)-1\n"
   ]
  },
  {
   "cell_type": "code",
   "execution_count": 10,
   "metadata": {},
   "outputs": [],
   "source": [
    "class Global_Container():\n",
    "    pass"
   ]
  },
  {
   "cell_type": "code",
   "execution_count": 11,
   "metadata": {},
   "outputs": [],
   "source": [
    "calib = mc.Manual_Marker_Calibration(Global_Container)"
   ]
  },
  {
   "cell_type": "code",
   "execution_count": 12,
   "metadata": {},
   "outputs": [],
   "source": [
    "# we cant use the calib.start() because of the super-inherited function that wants to update the gui\n",
    "import types\n",
    "calib.active = True\n",
    "calib.ref_list = []\n",
    "calib.pupil_list = []\n",
    "calib.button = Global_Container()\n",
    "calib.g_pool.get_timestamp = lambda:None\n",
    "calib.trackerid = 0\n",
    "def notify_capture_complete(self,x):\n",
    "    if x['subject'] == 'calibration.marker_sample_completed':\n",
    "        self.trackerid +=1\n",
    "        print(self.trackerid)\n",
    "        for i,r in enumerate(self.ref_list):\n",
    "            if 'trackerid' not in r.keys():\n",
    "                r['trackerid'] = self.trackerid\n",
    "            self.ref_list[i] = r\n",
    "            \n",
    "        \n",
    "calib.notify_all =  types.MethodType(notify_capture_complete,calib)\n",
    "calib.button = Global_Container()\n",
    "calib.button.status_text = ''\n"
   ]
  },
  {
   "cell_type": "code",
   "execution_count": 13,
   "metadata": {},
   "outputs": [
    {
     "name": "stdout",
     "output_type": "stream",
     "text": [
      "Progress: 0.0%\n",
      "Progress: 6.4%\n",
      "Progress: 12.9%\n",
      "Progress: 19.3%\n",
      "Progress: 25.8%\n",
      "1\n",
      "2\n",
      "Progress: 32.2%\n",
      "3\n",
      "4\n",
      "Progress: 38.7%\n",
      "5\n",
      "6\n",
      "Progress: 45.1%\n",
      "7\n",
      "Progress: 51.6%\n",
      "8\n",
      "9\n",
      "Progress: 58.0%\n",
      "10\n",
      "11\n",
      "Progress: 64.5%\n",
      "12\n",
      "Progress: 70.9%\n",
      "13\n",
      "Progress: 77.4%\n",
      "Progress: 83.8%\n"
     ]
    },
    {
     "name": "stderr",
     "output_type": "stream",
     "text": [
      "Marker moved too quickly: Aborted sample. Sampled 20 datapoints. Looking for steady marker again.\n"
     ]
    },
    {
     "name": "stdout",
     "output_type": "stream",
     "text": [
      "14\n",
      "Progress: 90.3%\n",
      "Progress: 96.7%\n",
      "Elapsed time: 72.365781 seconds.\n",
      "\n"
     ]
    }
   ],
   "source": [
    "calibrange = range(29724,37479)\n",
    "calib.circle_tracker._wait_count = 0\n",
    "tic()\n",
    "for k in calibrange:\n",
    "    if np.mod(k-min(calibrange),500) == 0:\n",
    "        print('Progress: %.1f%%'%((float(k-min(calibrange))/(max(calibrange)-min(calibrange)))*100))\n",
    "        \n",
    "    cap.seek_to_frame(k)\n",
    "    \n",
    "    frame= cap.get_frame()\n",
    "    \n",
    "    pupil_idx = np.where(ind == cap.get_frame_index())[0]\n",
    "    pupil_in_bound = [pupil_data['pupil_positions'][i] for i in pupil_idx]\n",
    "    \n",
    "    # look at the current frame\n",
    "    # pupil_position for pupil <v1.8 , pupil for pupil >=v1.8\n",
    "    calib.recent_events({'frame':frame,'pupil':pupil_in_bound,'pupil_positions':pupil_in_bound})\n",
    "    #if calib.sample_ref_dist >0.1:\n",
    "    #    print('marker found: %i, smooth_vel:%.3f, sample_ref_dist:%.3f'%(len(calib.markers),calib.smooth_vel,calib.sample_ref_dist))\n",
    "toc()"
   ]
  },
  {
   "cell_type": "code",
   "execution_count": 26,
   "metadata": {},
   "outputs": [],
   "source": [
    "trackerids = [r['trackerid'] for r in calib.ref_list]"
   ]
  },
  {
   "cell_type": "code",
   "execution_count": null,
   "metadata": {},
   "outputs": [],
   "source": [
    "# for jedes trackerid timestamp set, find pupil positions that fall into that set"
   ]
  },
  {
   "cell_type": "code",
   "execution_count": 27,
   "metadata": {},
   "outputs": [
    {
     "data": {
      "image/png": "[encoded data removed]",
      "text/plain": [
       "<Figure size 432x288 with 1 Axes>"
      ]
     },
     "metadata": {
      "needs_background": "light"
     },
     "output_type": "display_data"
    },
    {
     "data": {
      "image/png": "[encoded data removed]",
      "text/plain": [
       "<Figure size 432x288 with 1 Axes>"
      ]
     },
     "metadata": {
      "needs_background": "light"
     },
     "output_type": "display_data"
    },
    {
     "data": {
      "image/png": "[encoded data removed]",
      "text/plain": [
       "<Figure size 432x288 with 1 Axes>"
      ]
     },
     "metadata": {
      "needs_background": "light"
     },
     "output_type": "display_data"
    },
    {
     "data": {
      "image/png": "[encoded data removed]",
      "text/plain": [
       "<Figure size 432x288 with 1 Axes>"
      ]
     },
     "metadata": {
      "needs_background": "light"
     },
     "output_type": "display_data"
    },
    {
     "data": {
      "image/png": "[encoded data removed]",
      "text/plain": [
       "<Figure size 432x288 with 1 Axes>"
      ]
     },
     "metadata": {
      "needs_background": "light"
     },
     "output_type": "display_data"
    },
    {
     "data": {
      "image/png": "[encoded data removed]",
      "text/plain": [
       "<Figure size 432x288 with 1 Axes>"
      ]
     },
     "metadata": {
      "needs_background": "light"
     },
     "output_type": "display_data"
    },
    {
     "data": {
      "image/png": "[encoded data removed]",
      "text/plain": [
       "<Figure size 432x288 with 1 Axes>"
      ]
     },
     "metadata": {
      "needs_background": "light"
     },
     "output_type": "display_data"
    },
    {
     "data": {
      "image/png": "[encoded data removed]",
      "text/plain": [
       "<Figure size 432x288 with 1 Axes>"
      ]
     },
     "metadata": {
      "needs_background": "light"
     },
     "output_type": "display_data"
    },
    {
     "data": {
      "image/png": "[encoded data removed]",
      "text/plain": [
       "<Figure size 432x288 with 1 Axes>"
      ]
     },
     "metadata": {
      "needs_background": "light"
     },
     "output_type": "display_data"
    },
    {
     "data": {
      "image/png": "[encoded data removed]",
      "text/plain": [
       "<Figure size 432x288 with 1 Axes>"
      ]
     },
     "metadata": {
      "needs_background": "light"
     },
     "output_type": "display_data"
    },
    {
     "data": {
      "image/png": "[encoded data removed]",
      "text/plain": [
       "<Figure size 432x288 with 1 Axes>"
      ]
     },
     "metadata": {
      "needs_background": "light"
     },
     "output_type": "display_data"
    },
    {
     "data": {
      "image/png": "[encoded data removed]",
      "text/plain": [
       "<Figure size 432x288 with 1 Axes>"
      ]
     },
     "metadata": {
      "needs_background": "light"
     },
     "output_type": "display_data"
    },
    {
     "data": {
      "image/png": "[encoded data removed]",
      "text/plain": [
       "<Figure size 432x288 with 1 Axes>"
      ]
     },
     "metadata": {
      "needs_background": "light"
     },
     "output_type": "display_data"
    },
    {
     "data": {
      "image/png": "[encoded data removed]",
      "text/plain": [
       "<Figure size 432x288 with 1 Axes>"
      ]
     },
     "metadata": {
      "needs_background": "light"
     },
     "output_type": "display_data"
    }
   ],
   "source": [
    "from functions.et_helper import mad\n",
    "pupil_ts = np.array([c['timestamp'] for c in calib.pupil_list])\n",
    "ref_pupil_spread = pd.DataFrame(columns=['trackerid','mad'])\n",
    "for ref_id in np.unique(trackerids):\n",
    "    ref_ts = [r['timestamp'] for r in calib.ref_list if r['trackerid']==ref_id]\n",
    "    ref_ts_min,ref_ts_max = min(ref_ts),max(ref_ts)\n",
    "    ix = np.where((pupil_ts>ref_ts_min) & (pupil_ts<=ref_ts_max))[0]\n",
    "    pos2d_1 = np.array([calib.pupil_list[i]['norm_pos'] for i in ix if calib.pupil_list[i]['id']==0 and calib.pupil_list[i]['confidence']>0.8])\n",
    "    pos2d_2 = np.array([calib.pupil_list[i]['norm_pos'] for i in ix if calib.pupil_list[i]['id']==1 and calib.pupil_list[i]['confidence']>0.8])\n",
    "    plt.figure()\n",
    "    \n",
    "    if pos2d_1.size>0:\n",
    "    \n",
    "        plt.plot(pos2d_1[:,0],pos2d_1[:,1],'or')\n",
    "    if pos2d_2.size>0:\n",
    "        plt.plot(pos2d_2[:,0],pos2d_2[:,1],'og')\n",
    "    plt.xlim([0,1])\n",
    "    plt.ylim([0,1])\n",
    "\n",
    "\n",
    "    m = np.mean(np.array([calib.pupil_list[i]['norm_pos'] for i in ix]),axis=0)\n",
    "    #sd2d = np.mean(np.sqrt(np.square(pos2d[:,0]-m[0]) + np.square(pos2d[:,1]-m[1])))\n",
    "    \n",
    "    #ref_pupil_spread = ref_pupil_spread.append(pd.DataFrame([[ref_id,sd2d]],columns=['trackerid','mad']))"
   ]
  },
  {
   "cell_type": "code",
   "execution_count": null,
   "metadata": {},
   "outputs": [],
   "source": [
    "ref_pupil_spread"
   ]
  },
  {
   "cell_type": "code",
   "execution_count": null,
   "metadata": {},
   "outputs": [],
   "source": [
    "pos2d = np.array([calib.pupil_list[i]['norm_pos'] for i in ix])\n",
    "\n",
    "m = np.mean(np.array([calib.pupil_list[i]['norm_pos'] for i in ix]),axis=0)\n",
    "mad2d = np.mean(np.sqrt(np.square(pos2d[:,0]-m[0]) + np.square(pos2d[:,1]-m[1])))"
   ]
  },
  {
   "cell_type": "code",
   "execution_count": null,
   "metadata": {},
   "outputs": [],
   "source": [
    "ref_x = [p['norm_pos'][0] for p in calib.ref_list]\n",
    "ref_y = [p['norm_pos'][1] for p in calib.ref_list]\n",
    "pup_x = [p['norm_pos'][0] for p in calib.pupil_list]\n",
    "pup_y = [p['norm_pos'][1] for p in calib.pupil_list]"
   ]
  },
  {
   "cell_type": "code",
   "execution_count": null,
   "metadata": {},
   "outputs": [],
   "source": [
    "%matplotlib inline"
   ]
  },
  {
   "cell_type": "code",
   "execution_count": null,
   "metadata": {},
   "outputs": [],
   "source": [
    "#plt.plot(np.array(pup_x),np.array(pup_y),'ob')\n",
    "plt.plot(ref_x,ref_y,'sr')\n",
    "plt.xlim([0,1])\n",
    "plt.ylim([0,1])"
   ]
  },
  {
   "cell_type": "code",
   "execution_count": null,
   "metadata": {},
   "outputs": [],
   "source": [
    "plt.figure\n",
    "plt.plot([p['timestamp'] for p in calib.ref_list])"
   ]
  },
  {
   "cell_type": "code",
   "execution_count": null,
   "metadata": {},
   "outputs": [],
   "source": [
    "640/frame.gray.shape[0]"
   ]
  },
  {
   "cell_type": "code",
   "execution_count": null,
   "metadata": {},
   "outputs": [],
   "source": [
    "calib.markers"
   ]
  },
  {
   "cell_type": "code",
   "execution_count": null,
   "metadata": {},
   "outputs": [],
   "source": [
    "import lib.pupil.pupil_src.shared_modules.circle_detector as cd"
   ]
  },
  {
   "cell_type": "code",
   "execution_count": null,
   "metadata": {},
   "outputs": [],
   "source": [
    "cd.find_pupil_circle_marker(frame.gray,0.5)"
   ]
  }
 ],
 "metadata": {
  "kernelspec": {
   "display_name": "Python 3",
   "language": "python",
   "name": "python3"
  },
  "language_info": {
   "codemirror_mode": {
    "name": "ipython",
    "version": 3
   },
   "file_extension": ".py",
   "mimetype": "text/x-python",
   "name": "python",
   "nbconvert_exporter": "python",
   "pygments_lexer": "ipython3",
   "version": "3.5.2"
  }
 },
 "nbformat": 4,
 "nbformat_minor": 2
}
